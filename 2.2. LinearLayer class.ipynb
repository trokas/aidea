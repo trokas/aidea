{
 "cells": [
  {
   "cell_type": "markdown",
   "metadata": {
    "gradient": {
     "editing": false
    }
   },
   "source": [
    "In previous notebook we have showed how to build Perceptron and FCN. Here we will finally make Linear class that could handle different activations and any number of layers.\n",
    "\n",
    "I didn't like the way fastai is handling exports since I do not like the idea of duplicating notebook to python files. Instead we can just have a helper that imports last (since last is usually final) occurance of the function or class in the notebook."
   ]
  },
  {
   "cell_type": "code",
   "execution_count": 23,
   "metadata": {
    "gradient": {}
   },
   "outputs": [
    {
     "name": "stdout",
     "output_type": "stream",
     "text": [
      "The autoreload extension is already loaded. To reload it, use:\n",
      "  %reload_ext autoreload\n"
     ]
    }
   ],
   "source": [
    "%load_ext autoreload\n",
    "%autoreload 2\n",
    "\n",
    "import math\n",
    "import torch\n",
    "from importer import import_from_nb\n",
    "\n",
    "make_dataset = import_from_nb('2.1', 'make_dataset')"
   ]
  },
  {
   "cell_type": "markdown",
   "metadata": {
    "gradient": {
     "editing": false
    }
   },
   "source": [
    "Note, that this way we can import objects that were defined using import_from_nb."
   ]
  },
  {
   "cell_type": "code",
   "execution_count": 4,
   "metadata": {
    "gradient": {}
   },
   "outputs": [
    {
     "data": {
      "text/plain": [
       "<function importer.make_dataset(level, n=100)>"
      ]
     },
     "execution_count": 4,
     "metadata": {},
     "output_type": "execute_result"
    }
   ],
   "source": [
    "import_from_nb('2.2', 'make_dataset')"
   ]
  },
  {
   "cell_type": "markdown",
   "metadata": {
    "gradient": {
     "editing": false
    }
   },
   "source": [
    "Let's jump into implementation."
   ]
  },
  {
   "cell_type": "code",
   "execution_count": 5,
   "metadata": {
    "gradient": {}
   },
   "outputs": [
    {
     "data": {
      "image/png": "[encoded data removed]",
      "text/plain": [
       "<Figure size 432x288 with 2 Axes>"
      ]
     },
     "metadata": {
      "needs_background": "light"
     },
     "output_type": "display_data"
    }
   ],
   "source": [
    "X, y = make_dataset('hard')"
   ]
  },
  {
   "cell_type": "markdown",
   "metadata": {
    "gradient": {
     "editing": false
    }
   },
   "source": [
    "We will start with 3 layer implementation that ended up previous notebook"
   ]
  },
  {
   "cell_type": "code",
   "execution_count": 6,
   "metadata": {
    "gradient": {}
   },
   "outputs": [],
   "source": [
    "hidden = 4\n",
    "epochs = 50\n",
    "learning_rate = 0.4\n",
    "W_0 = torch.normal(0., 1., (2, hidden))\n",
    "B_0 = torch.zeros((hidden))\n",
    "W_1 = torch.normal(0., 1., (hidden, hidden))\n",
    "B_1 = torch.zeros((hidden))\n",
    "W_2 = torch.normal(0., 1., (hidden, 1))\n",
    "B_2 = torch.zeros((1))\n",
    "\n",
    "act = torch.sigmoid\n",
    "diff = lambda x: x * (1 - x)\n",
    "\n",
    "for _ in range(epochs):\n",
    "    for batch in range(10):\n",
    "        X_batch = X[batch * 30:(1 + batch) * 30]\n",
    "        y_batch = y[batch * 30:(1 + batch) * 30]\n",
    "\n",
    "        L_1 = act(X_batch @ W_0 + B_0)\n",
    "        L_2 = act(L_1 @ W_1 + B_1)\n",
    "        L_3 = act(L_2 @ W_2 + B_2)\n",
    "        errors = y_batch - L_3\n",
    "\n",
    "        diff_3 = errors * diff(L_3)\n",
    "        diff_2 = diff_3 @ W_2.T * diff(L_2) \n",
    "        diff_1 = diff_2 @ W_1.T * diff(L_1) \n",
    "\n",
    "        W_2 += learning_rate * L_2.T @ diff_3\n",
    "        B_2 += learning_rate * torch.sum(diff_3)\n",
    "\n",
    "        W_1 += learning_rate * L_1.T @ diff_2\n",
    "        B_1 += learning_rate * torch.sum(diff_2)\n",
    "\n",
    "        W_0 += learning_rate * X_batch.T @ diff_1\n",
    "        B_0 += learning_rate * torch.sum(diff_1)\n",
    "\n",
    "assert torch.mean(torch.abs(errors)) < 0.05"
   ]
  },
  {
   "cell_type": "markdown",
   "metadata": {},
   "source": [
    "Before we go to full implementation, let's do this step by step. First we need activation and a linear layer."
   ]
  },
  {
   "cell_type": "code",
   "execution_count": 7,
   "metadata": {
    "gradient": {}
   },
   "outputs": [],
   "source": [
    "class SigmoidActivation():\n",
    "    def __call__(self, x):\n",
    "        return torch.sigmoid(x)\n",
    "    def diff(self, x):\n",
    "        return x * (1 - x)\n",
    "    \n",
    "class LinearLayer():\n",
    "    def __init__(self, shape, act):\n",
    "        self.W = torch.normal(0., 1., shape)\n",
    "        self.b = torch.zeros((shape[1]))\n",
    "        self.act = act\n",
    "    \n",
    "    def __call__(self, x):\n",
    "        return self.act(x @ self.W + self.b)"
   ]
  },
  {
   "cell_type": "markdown",
   "metadata": {},
   "source": [
    "After introducing classes to the code we get"
   ]
  },
  {
   "cell_type": "code",
   "execution_count": 8,
   "metadata": {
    "gradient": {}
   },
   "outputs": [],
   "source": [
    "hidden = 4\n",
    "epochs = 50\n",
    "learning_rate = 0.4\n",
    "\n",
    "sigmoid = SigmoidActivation()\n",
    "layer_0 = LinearLayer((2, hidden), sigmoid)\n",
    "layer_1 = LinearLayer((hidden, hidden), sigmoid)\n",
    "layer_2 = LinearLayer((hidden, 1), sigmoid)\n",
    "\n",
    "for _ in range(epochs):\n",
    "    for batch in range(10):\n",
    "        X_batch = X[batch * 30:(1 + batch) * 30]\n",
    "        y_batch = y[batch * 30:(1 + batch) * 30]\n",
    "\n",
    "        L_1 = layer_0(X_batch)\n",
    "        L_2 = layer_1(L_1)\n",
    "        L_3 = layer_2(L_2)\n",
    "        errors = y_batch - L_3\n",
    "\n",
    "        diff_3 = errors * layer_2.act.diff(L_3)\n",
    "        diff_2 = diff_3 @ layer_2.W.T * layer_1.act.diff(L_2) \n",
    "        diff_1 = diff_2 @ layer_1.W.T * layer_0.act.diff(L_1) \n",
    "\n",
    "        layer_2.W += learning_rate * L_2.T @ diff_3\n",
    "        layer_2.b += learning_rate * torch.sum(diff_3)\n",
    "\n",
    "        layer_1.W += learning_rate * L_1.T @ diff_2\n",
    "        layer_1.b += learning_rate * torch.sum(diff_2)\n",
    "\n",
    "        layer_0.W += learning_rate * X_batch.T @ diff_1\n",
    "        layer_0.b += learning_rate * torch.sum(diff_1)\n",
    "\n",
    "assert torch.mean(torch.abs(errors)) < 0.05"
   ]
  },
  {
   "cell_type": "markdown",
   "metadata": {},
   "source": [
    "Clearly we need to store details necessary for the backward pass in the Linear layer itself, thus let's refactor L1, L2 and L3."
   ]
  },
  {
   "cell_type": "code",
   "execution_count": 9,
   "metadata": {
    "gradient": {}
   },
   "outputs": [],
   "source": [
    "class LinearLayer():\n",
    "    def __init__(self, shape, act):\n",
    "        self.W = torch.normal(0., 1., shape)\n",
    "        self.b = torch.zeros((shape[1]))\n",
    "        self.act = act\n",
    "        self.out = None\n",
    "    \n",
    "    def __call__(self, x):\n",
    "        self.out = self.act(x @ self.W + self.b)\n",
    "        return self.out\n",
    "\n",
    "    def back(self):\n",
    "        return self.act.diff(self.out)"
   ]
  },
  {
   "cell_type": "code",
   "execution_count": 10,
   "metadata": {
    "gradient": {}
   },
   "outputs": [],
   "source": [
    "hidden = 4\n",
    "epochs = 50\n",
    "learning_rate = 0.4\n",
    "\n",
    "sigmoid = SigmoidActivation()\n",
    "layer_0 = LinearLayer((2, hidden), sigmoid)\n",
    "layer_1 = LinearLayer((hidden, hidden), sigmoid)\n",
    "layer_2 = LinearLayer((hidden, 1), sigmoid)\n",
    "\n",
    "for _ in range(epochs):\n",
    "    for batch in range(10):\n",
    "        X_batch = X[batch * 30:(1 + batch) * 30]\n",
    "        y_batch = y[batch * 30:(1 + batch) * 30]\n",
    "\n",
    "        y_hat = layer_2(layer_1(layer_0(X_batch)))\n",
    "        errors = y_batch - y_hat\n",
    "\n",
    "        diff_3 = errors * layer_2.back()\n",
    "        diff_2 = diff_3 @ layer_2.W.T * layer_1.back()\n",
    "        diff_1 = diff_2 @ layer_1.W.T * layer_0.back()\n",
    "\n",
    "        layer_0.W += learning_rate * X_batch.T @ diff_1\n",
    "        layer_0.b += learning_rate * torch.sum(diff_1)\n",
    "\n",
    "        layer_1.W += learning_rate * layer_0.out.T @ diff_2\n",
    "        layer_1.b += learning_rate * torch.sum(diff_2)\n",
    "        \n",
    "        layer_2.W += learning_rate * layer_1.out.T @ diff_3\n",
    "        layer_2.b += learning_rate * torch.sum(diff_3)\n",
    "\n",
    "assert torch.mean(torch.abs(errors)) < 0.05"
   ]
  },
  {
   "cell_type": "markdown",
   "metadata": {},
   "source": [
    "It would be nice if layer knows about the diff, then he could take a step."
   ]
  },
  {
   "cell_type": "code",
   "execution_count": 11,
   "metadata": {
    "gradient": {}
   },
   "outputs": [],
   "source": [
    "class LinearLayer():\n",
    "    def __init__(self, shape, act):\n",
    "        self.W = torch.normal(0., 1., shape)\n",
    "        self.b = torch.zeros((shape[1]))\n",
    "        self.act = act\n",
    "        self.out = None\n",
    "        self.diff = None\n",
    "    \n",
    "    def __call__(self, x):\n",
    "        self.out = self.act(x @ self.W + self.b)\n",
    "        return self.out\n",
    "\n",
    "    def back(self, mult):\n",
    "        self.diff = mult * self.act.diff(self.out)\n",
    "        return self.diff"
   ]
  },
  {
   "cell_type": "code",
   "execution_count": 12,
   "metadata": {
    "gradient": {}
   },
   "outputs": [],
   "source": [
    "hidden = 4\n",
    "epochs = 50\n",
    "learning_rate = 0.4\n",
    "\n",
    "sigmoid = SigmoidActivation()\n",
    "layer_0 = LinearLayer((2, hidden), sigmoid)\n",
    "layer_1 = LinearLayer((hidden, hidden), sigmoid)\n",
    "layer_2 = LinearLayer((hidden, 1), sigmoid)\n",
    "\n",
    "for _ in range(epochs):\n",
    "    for batch in range(10):\n",
    "        X_batch = X[batch * 30:(1 + batch) * 30]\n",
    "        y_batch = y[batch * 30:(1 + batch) * 30]\n",
    "\n",
    "        y_hat = layer_2(layer_1(layer_0(X_batch)))\n",
    "        errors = y_batch - y_hat\n",
    "\n",
    "        layer_2.back(errors)\n",
    "        layer_1.back(layer_2.diff @ layer_2.W.T)\n",
    "        layer_0.back(layer_1.diff @ layer_1.W.T)\n",
    "\n",
    "        layer_0.W += learning_rate * X_batch.T @ layer_0.diff\n",
    "        layer_0.b += learning_rate * torch.sum(layer_0.diff)\n",
    "\n",
    "        layer_1.W += learning_rate * layer_0.out.T @ layer_1.diff\n",
    "        layer_1.b += learning_rate * torch.sum(layer_1.diff)\n",
    "        \n",
    "        layer_2.W += learning_rate * layer_1.out.T @ layer_2.diff\n",
    "        layer_2.b += learning_rate * torch.sum(layer_2.diff)\n",
    "\n",
    "assert torch.mean(torch.abs(errors)) < 0.05"
   ]
  },
  {
   "cell_type": "markdown",
   "metadata": {},
   "source": [
    "Now it's easy to see that simply changing the return statement of back we can reduce it even further"
   ]
  },
  {
   "cell_type": "code",
   "execution_count": 13,
   "metadata": {
    "gradient": {}
   },
   "outputs": [],
   "source": [
    "class LinearLayer():\n",
    "    def __init__(self, shape, act):\n",
    "        self.W = torch.normal(0., 1., shape)\n",
    "        self.b = torch.zeros((shape[1]))\n",
    "        self.act = act\n",
    "        self.out = None\n",
    "        self.diff = None\n",
    "    \n",
    "    def __call__(self, x):\n",
    "        self.out = self.act(x @ self.W + self.b)\n",
    "        return self.out\n",
    "\n",
    "    def back(self, mult):\n",
    "        self.diff = mult * self.act.diff(self.out)\n",
    "        return self.diff @ self.W.T"
   ]
  },
  {
   "cell_type": "code",
   "execution_count": 14,
   "metadata": {
    "gradient": {}
   },
   "outputs": [],
   "source": [
    "hidden = 4\n",
    "epochs = 50\n",
    "learning_rate = 0.4\n",
    "\n",
    "sigmoid = SigmoidActivation()\n",
    "layer_0 = LinearLayer((2, hidden), sigmoid)\n",
    "layer_1 = LinearLayer((hidden, hidden), sigmoid)\n",
    "layer_2 = LinearLayer((hidden, 1), sigmoid)\n",
    "\n",
    "for _ in range(epochs):\n",
    "    for batch in range(10):\n",
    "        X_batch = X[batch * 30:(1 + batch) * 30]\n",
    "        y_batch = y[batch * 30:(1 + batch) * 30]\n",
    "\n",
    "        y_hat = layer_2(layer_1(layer_0(X_batch)))\n",
    "        errors = y_batch - y_hat\n",
    "\n",
    "        layer_0.back(layer_1.back(layer_2.back(errors)))\n",
    "\n",
    "        layer_0.W += learning_rate * X_batch.T @ layer_0.diff\n",
    "        layer_0.b += learning_rate * torch.sum(layer_0.diff)\n",
    "\n",
    "        layer_1.W += learning_rate * layer_0.out.T @ layer_1.diff\n",
    "        layer_1.b += learning_rate * torch.sum(layer_1.diff)\n",
    "        \n",
    "        layer_2.W += learning_rate * layer_1.out.T @ layer_2.diff\n",
    "        layer_2.b += learning_rate * torch.sum(layer_2.diff)\n",
    "\n",
    "assert torch.mean(torch.abs(errors)) < 0.05"
   ]
  },
  {
   "cell_type": "markdown",
   "metadata": {},
   "source": [
    "Nice, now let's observe that layers know about their inputs, thus can take a step. By they way we can improve our init using division from `math.sqrt(fan_in)`."
   ]
  },
  {
   "cell_type": "code",
   "execution_count": 27,
   "metadata": {
    "gradient": {}
   },
   "outputs": [],
   "source": [
    "class LinearLayer():\n",
    "    def __init__(self, shape, act):\n",
    "        self.W = torch.randn(shape) / math.sqrt(shape[0])\n",
    "        self.b = torch.zeros((shape[1]))\n",
    "        self.act = act\n",
    "        self.inp = None\n",
    "        self.out = None\n",
    "        self.diff = None\n",
    "    \n",
    "    def __call__(self, x):\n",
    "        self.inp = x\n",
    "        self.out = self.act(x @ self.W + self.b)\n",
    "        return self.out\n",
    "\n",
    "    def back(self, mult):\n",
    "        self.diff = mult * self.act.diff(self.out)\n",
    "        return self.diff @ self.W.T\n",
    "    \n",
    "    def step(self, learning_rate):\n",
    "        self.W += learning_rate * self.inp.T @ self.diff\n",
    "        self.b += learning_rate * torch.sum(self.diff)"
   ]
  },
  {
   "cell_type": "code",
   "execution_count": 32,
   "metadata": {
    "gradient": {}
   },
   "outputs": [],
   "source": [
    "hidden = 4\n",
    "epochs = 50\n",
    "learning_rate = 0.4\n",
    "\n",
    "sigmoid = SigmoidActivation()\n",
    "layer_0 = LinearLayer((2, hidden), sigmoid)\n",
    "layer_1 = LinearLayer((hidden, hidden), sigmoid)\n",
    "layer_2 = LinearLayer((hidden, 1), sigmoid)\n",
    "\n",
    "for _ in range(epochs):\n",
    "    for batch in range(10):\n",
    "        X_batch = X[batch * 30:(1 + batch) * 30]\n",
    "        y_batch = y[batch * 30:(1 + batch) * 30]\n",
    "\n",
    "        y_hat = layer_2(layer_1(layer_0(X_batch)))\n",
    "        errors = y_batch - y_hat\n",
    "\n",
    "        layer_0.back(layer_1.back(layer_2.back(errors)))\n",
    "        \n",
    "        layer_0.step(learning_rate)\n",
    "        layer_1.step(learning_rate)\n",
    "        layer_2.step(learning_rate)\n",
    "\n",
    "assert torch.mean(torch.abs(errors)) < 0.05"
   ]
  },
  {
   "cell_type": "markdown",
   "metadata": {},
   "source": [
    "From there we just need to abstrack sequential model."
   ]
  },
  {
   "cell_type": "code",
   "execution_count": 30,
   "metadata": {
    "gradient": {}
   },
   "outputs": [],
   "source": [
    "class Sequential():\n",
    "    def __init__(self, layers):\n",
    "        self.layers = layers\n",
    "    \n",
    "    def __call__(self, x):\n",
    "        out = x\n",
    "        for l in self.layers:\n",
    "            out = l(out)\n",
    "        return out\n",
    "    \n",
    "    def back(self, x):\n",
    "        out = x\n",
    "        for l in self.layers[::-1]:\n",
    "            out = l.back(out)\n",
    "        return out\n",
    "    \n",
    "    def step(self, lr):\n",
    "        for l in self.layers:\n",
    "            l.step(lr)"
   ]
  },
  {
   "cell_type": "code",
   "execution_count": 31,
   "metadata": {},
   "outputs": [],
   "source": [
    "hidden = 4\n",
    "epochs = 50\n",
    "learning_rate = 0.4\n",
    "\n",
    "sigmoid = SigmoidActivation()\n",
    "model = Sequential([LinearLayer((2, hidden), sigmoid),\n",
    "                    LinearLayer((hidden, hidden), sigmoid),\n",
    "                    LinearLayer((hidden, 1), sigmoid)])\n",
    "\n",
    "for _ in range(epochs):\n",
    "    for batch in range(10):\n",
    "        X_batch = X[batch * 30:(1 + batch) * 30]\n",
    "        y_batch = y[batch * 30:(1 + batch) * 30]\n",
    "\n",
    "        y_hat = model(X_batch)\n",
    "        errors = y_batch - y_hat\n",
    "\n",
    "        model.back(errors)\n",
    "        model.step(learning_rate)\n",
    "\n",
    "assert torch.mean(torch.abs(errors)) < 0.05"
   ]
  },
  {
   "cell_type": "markdown",
   "metadata": {},
   "source": [
    "At the moment our optimizer ended up in the model itself, but we can easily take it out if needed."
   ]
  },
  {
   "cell_type": "code",
   "execution_count": null,
   "metadata": {},
   "outputs": [],
   "source": []
  }
 ],
 "metadata": {
  "kernelspec": {
   "display_name": "Python 3",
   "language": "python",
   "name": "python3"
  },
  "language_info": {
   "codemirror_mode": {
    "name": "ipython",
    "version": 3
   },
   "file_extension": ".py",
   "mimetype": "text/x-python",
   "name": "python",
   "nbconvert_exporter": "python",
   "pygments_lexer": "ipython3",
   "version": "3.8.6"
  }
 },
 "nbformat": 4,
 "nbformat_minor": 4
}
