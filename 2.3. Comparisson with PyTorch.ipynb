{
 "cells": [
  {
   "cell_type": "markdown",
   "metadata": {},
   "source": [
    "In the last notebook we ended up with simple FCN. Now let's compare it with implementation that is used in PyTorch."
   ]
  },
  {
   "cell_type": "code",
   "execution_count": 4,
   "metadata": {},
   "outputs": [
    {
     "name": "stdout",
     "output_type": "stream",
     "text": [
      "The autoreload extension is already loaded. To reload it, use:\n",
      "  %reload_ext autoreload\n"
     ]
    }
   ],
   "source": [
    "%load_ext autoreload\n",
    "%autoreload 2\n",
    "\n",
    "import math\n",
    "import torch\n",
    "from importer import import_from_nb\n",
    "\n",
    "make_dataset = import_from_nb('2.1', 'make_dataset')\n",
    "Sequential = import_from_nb('2.2', 'Sequential')\n",
    "LinearLayer = import_from_nb('2.2', 'LinearLayer')\n",
    "SigmoidActivation = import_from_nb('2.2', 'SigmoidActivation')"
   ]
  },
  {
   "cell_type": "code",
   "execution_count": 5,
   "metadata": {},
   "outputs": [
    {
     "data": {
      "image/png": "[encoded data removed]",
      "text/plain": [
       "<Figure size 432x288 with 2 Axes>"
      ]
     },
     "metadata": {
      "needs_background": "light"
     },
     "output_type": "display_data"
    }
   ],
   "source": [
    "X, y = make_dataset('hard')"
   ]
  },
  {
   "cell_type": "markdown",
   "metadata": {},
   "source": [
    "Our latest model is defined by"
   ]
  },
  {
   "cell_type": "code",
   "execution_count": 6,
   "metadata": {},
   "outputs": [],
   "source": [
    "hidden = 4\n",
    "epochs = 50\n",
    "learning_rate = 0.4\n",
    "\n",
    "sigmoid = SigmoidActivation()\n",
    "model = Sequential([LinearLayer((2, hidden), sigmoid),\n",
    "                    LinearLayer((hidden, hidden), sigmoid),\n",
    "                    LinearLayer((hidden, 1), sigmoid)])\n",
    "\n",
    "for _ in range(epochs):\n",
    "    for batch in range(10):\n",
    "        X_batch = X[batch * 30:(1 + batch) * 30]\n",
    "        y_batch = y[batch * 30:(1 + batch) * 30]\n",
    "\n",
    "        y_hat = model(X_batch)\n",
    "        errors = y_batch - y_hat\n",
    "\n",
    "        model.back(errors)\n",
    "        model.step(learning_rate)\n",
    "\n",
    "assert torch.mean(torch.abs(errors)) < 0.05"
   ]
  },
  {
   "cell_type": "markdown",
   "metadata": {},
   "source": [
    "Let's recreate the same FCN in PyTorch."
   ]
  },
  {
   "cell_type": "code",
   "execution_count": 7,
   "metadata": {},
   "outputs": [],
   "source": [
    "loss_fn = torch.nn.MSELoss(reduction='sum')\n",
    "model = torch.nn.Sequential(\n",
    "    torch.nn.Linear(2, hidden), torch.nn.Sigmoid(),\n",
    "    torch.nn.Linear(hidden, hidden), torch.nn.Sigmoid(),\n",
    "    torch.nn.Linear(hidden, 1), torch.nn.Sigmoid())\n",
    "optimizer = torch.optim.SGD(model.parameters(), lr=learning_rate)\n",
    "\n",
    "for _ in range(epochs):\n",
    "    for batch in range(10):\n",
    "        X_batch = X[batch * 30:(1 + batch) * 30]\n",
    "        y_batch = y[batch * 30:(1 + batch) * 30]\n",
    "\n",
    "        y_pred = model(X_batch)\n",
    "        loss = loss_fn(y_pred, y_batch)\n",
    "        \n",
    "        optimizer.zero_grad()\n",
    "        loss.backward()\n",
    "        optimizer.step()\n",
    "                \n",
    "assert torch.mean(torch.abs(y_pred - y_batch)) < 0.05"
   ]
  },
  {
   "cell_type": "markdown",
   "metadata": {},
   "source": [
    "Major difference from what we have is that tensors contain param `requires_grad`, that tells autograd to begin recording operations on a Tensor. This allows to control which of those are trainable and enables nice decoupling of optimizer."
   ]
  },
  {
   "cell_type": "code",
   "execution_count": 8,
   "metadata": {},
   "outputs": [],
   "source": [
    "a = torch.tensor([2.], requires_grad=True)\n",
    "b = a**3\n",
    "b.backward()\n",
    "assert a.grad == 12.\n",
    "assert a.is_leaf\n",
    "assert not b.is_leaf"
   ]
  },
  {
   "cell_type": "markdown",
   "metadata": {},
   "source": [
    "Under the hood (on C++ level) pytorch stores the graph of operations. It's hard to backtrack what is going on, but autograd knows about gradients from this map - https://github.com/pytorch/pytorch/blob/3fe4718d164b4231684ff995ba13ca0d91d59c6d/tools/autograd/derivatives.yaml. So let's review our backward step and instead of returning gradients let's store them in weight matrices. In this case `self.diff` becomes `self.out.grad` and our return diff is saved as `self.inp.grad`. When refactoring in such way we do not need to pass any multiplier to back call since that one will be already stored in `self.out.grad`. To add `errors` we will add AbsLoss to the model itself.\n",
    "\n",
    "If you extract what is going on step by step here on back call you get\n",
    "```python\n",
    "inp.grad = inp - true\n",
    "inp.grad = out.grad * inp * (1 - inp)\n",
    "inp.grad = out.grad @ W.T\n",
    "inp.grad = out.grad * inp * (1 - inp)\n",
    "inp.grad = out.grad @ W.T\n",
    "inp.grad = out.grad * inp * (1 - inp)\n",
    "inp.grad = out.grad @ W.T\n",
    "```\n",
    "that represents same approach we started with\n",
    "```python\n",
    "diff_3 = errors * diff(L_3)\n",
    "diff_2 = diff_3 @ W_2.T * diff(L_2) \n",
    "diff_1 = diff_2 @ W_1.T * diff(L_1) \n",
    "```"
   ]
  },
  {
   "cell_type": "code",
   "execution_count": 9,
   "metadata": {},
   "outputs": [],
   "source": [
    "class SigmoidActivation():\n",
    "    def __call__(self, x):\n",
    "        self.inp = x\n",
    "        self.out = torch.sigmoid(x)\n",
    "        return self.out\n",
    "    \n",
    "    def back(self):\n",
    "        self.inp.grad = self.out.grad * self.out * (1 - self.out)\n",
    "    \n",
    "    def step(self, lr):\n",
    "        return\n",
    "    \n",
    "\n",
    "class LinearLayer():\n",
    "    def __init__(self, shape):\n",
    "        self.W = torch.randn(shape) / math.sqrt(shape[0])\n",
    "        self.b = torch.zeros((shape[1]))\n",
    "        self.inp = None\n",
    "        self.out = None\n",
    "    \n",
    "    def __call__(self, x):\n",
    "        self.inp = x\n",
    "        self.out = x @ self.W + self.b\n",
    "        return self.out\n",
    "\n",
    "    def back(self):\n",
    "        self.inp.grad = self.out.grad @ self.W.T\n",
    "        self.W.grad = self.inp.T @ self.out.grad\n",
    "        self.b.grad = self.out.grad.sum(0)\n",
    "\n",
    "    def step(self, learning_rate):\n",
    "        self.W -= learning_rate * self.W.grad\n",
    "        self.b -= learning_rate * self.b.grad\n",
    "\n",
    "\n",
    "class Sequential():\n",
    "    def __init__(self, layers, loss):\n",
    "        self.layers = layers\n",
    "        self.loss = loss\n",
    "    \n",
    "    def __call__(self, x, y):\n",
    "        for l in self.layers: x = l(x)\n",
    "        return self.loss(x, y)\n",
    "    \n",
    "    def back(self):\n",
    "        self.loss.back()\n",
    "        for l in reversed(self.layers): l.back()\n",
    "    \n",
    "    def step(self, lr):\n",
    "        for l in self.layers: l.step(lr)\n",
    "\n",
    "            \n",
    "class AbsLoss():\n",
    "    def __call__(self, pred, true):\n",
    "        self.inp = pred\n",
    "        self.true = true\n",
    "        return torch.mean(torch.abs(pred - true))\n",
    "\n",
    "    def back(self):\n",
    "        self.inp.grad = self.inp - self.true"
   ]
  },
  {
   "cell_type": "code",
   "execution_count": 10,
   "metadata": {},
   "outputs": [],
   "source": [
    "hidden = 4\n",
    "epochs = 50\n",
    "learning_rate = 0.4\n",
    "\n",
    "model = Sequential([LinearLayer((2, hidden)),      SigmoidActivation(),\n",
    "                    LinearLayer((hidden, hidden)), SigmoidActivation(),\n",
    "                    LinearLayer((hidden, 1)),      SigmoidActivation()], AbsLoss())\n",
    "\n",
    "for _ in range(epochs):\n",
    "    for batch in range(10):\n",
    "        X_batch = X[batch * 30:(1 + batch) * 30]\n",
    "        y_batch = y[batch * 30:(1 + batch) * 30]\n",
    "\n",
    "        loss = model(X_batch, y_batch)\n",
    "\n",
    "        model.back()\n",
    "        model.step(learning_rate)\n",
    "\n",
    "assert loss < 0.05"
   ]
  },
  {
   "cell_type": "markdown",
   "metadata": {},
   "source": [
    "From here we can add Optimizer instead of using step."
   ]
  },
  {
   "cell_type": "code",
   "execution_count": 11,
   "metadata": {},
   "outputs": [],
   "source": [
    "class Optimizer():\n",
    "    def __init__(self, params):\n",
    "        self.params = params\n",
    "    \n",
    "    def step(self, lr):\n",
    "        for p in self.params:\n",
    "            p -= lr * p.grad\n",
    "\n",
    "            \n",
    "class SigmoidActivation():\n",
    "    def __call__(self, x):\n",
    "        self.inp = x\n",
    "        self.out = torch.sigmoid(x)\n",
    "        return self.out\n",
    "    \n",
    "    def back(self):\n",
    "        self.inp.grad = self.out.grad * self.out * (1 - self.out)\n",
    "    \n",
    "\n",
    "class LinearLayer():\n",
    "    def __init__(self, shape):\n",
    "        self.W = torch.randn(shape) / math.sqrt(shape[0])\n",
    "        self.b = torch.zeros((shape[1]))\n",
    "        self.params = [self.W, self.b]\n",
    "        self.inp = None\n",
    "        self.out = None\n",
    "    \n",
    "    def __call__(self, x):\n",
    "        self.inp = x\n",
    "        self.out = x @ self.W + self.b\n",
    "        return self.out\n",
    "\n",
    "    def back(self):\n",
    "        self.inp.grad = self.out.grad @ self.W.T\n",
    "        self.W.grad = self.inp.T @ self.out.grad\n",
    "        self.b.grad = self.out.grad.sum(0)\n",
    "\n",
    "\n",
    "class Sequential():\n",
    "    def __init__(self, layers, loss):\n",
    "        self.layers = layers\n",
    "        self.params = [p for l in layers if hasattr(l, 'params') for p in l.params]\n",
    "        self.loss = loss\n",
    "    \n",
    "    def __call__(self, x, y):\n",
    "        for l in self.layers: x = l(x)\n",
    "        return self.loss(x, y)\n",
    "    \n",
    "    def back(self):\n",
    "        self.loss.back()\n",
    "        for l in reversed(self.layers): l.back()\n",
    "\n",
    "            \n",
    "class AbsLoss():\n",
    "    def __call__(self, pred, true):\n",
    "        self.inp = pred\n",
    "        self.true = true\n",
    "        return torch.mean(torch.abs(pred - true))\n",
    "\n",
    "    def back(self):\n",
    "        self.inp.grad = self.inp - self.true"
   ]
  },
  {
   "cell_type": "code",
   "execution_count": 12,
   "metadata": {},
   "outputs": [],
   "source": [
    "hidden = 4\n",
    "epochs = 50\n",
    "learning_rate = 0.4\n",
    "\n",
    "model = Sequential([LinearLayer((2, hidden)),      SigmoidActivation(),\n",
    "                    LinearLayer((hidden, hidden)), SigmoidActivation(),\n",
    "                    LinearLayer((hidden, 1)),      SigmoidActivation()], AbsLoss())\n",
    "opt = Optimizer(model.params)\n",
    "\n",
    "for _ in range(epochs):\n",
    "    for batch in range(10):\n",
    "        X_batch = X[batch * 30:(1 + batch) * 30]\n",
    "        y_batch = y[batch * 30:(1 + batch) * 30]\n",
    "\n",
    "        loss = model(X_batch, y_batch)\n",
    "\n",
    "        model.back()\n",
    "        opt.step(learning_rate)\n",
    "\n",
    "assert loss < 0.05"
   ]
  },
  {
   "cell_type": "markdown",
   "metadata": {},
   "source": [
    "Even though still basic, this implementation is already close to PyTorch way."
   ]
  },
  {
   "cell_type": "markdown",
   "metadata": {},
   "source": [
    "# Next steps\n",
    "\n",
    "As the next step it would be nice to add simple callback and track weights during training.\n",
    "\n",
    "PyTorch Linear layer init uses kaiming weights and bounded bias:\n",
    "```python\n",
    "init.kaiming_uniform_(self.weight, a=math.sqrt(5))\n",
    "if self.bias is not None:\n",
    "    fan_in, _ = init._calculate_fan_in_and_fan_out(self.weight)\n",
    "    bound = 1 / math.sqrt(fan_in)\n",
    "    init.uniform_(self.bias, -bound, bound)\n",
    "```"
   ]
  }
 ],
 "metadata": {
  "kernelspec": {
   "display_name": "Python 3",
   "language": "python",
   "name": "python3"
  },
  "language_info": {
   "codemirror_mode": {
    "name": "ipython",
    "version": 3
   },
   "file_extension": ".py",
   "mimetype": "text/x-python",
   "name": "python",
   "nbconvert_exporter": "python",
   "pygments_lexer": "ipython3",
   "version": "3.8.6"
  }
 },
 "nbformat": 4,
 "nbformat_minor": 4
}
